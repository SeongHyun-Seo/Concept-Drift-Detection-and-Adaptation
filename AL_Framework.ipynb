{
 "cells": [
  {
   "cell_type": "code",
   "execution_count": null,
   "metadata": {},
   "outputs": [],
   "source": [
    "import pandas as pd\n",
    "import numpy  as np\n",
    "import math\n",
    "\n",
    "from datetime import datetime, timedelta\n",
    "from sklearn.metrics import mean_squared_error, mean_absolute_error, r2_score\n",
    "from sklearn.linear_model import Lasso\n",
    "\n",
    "from datetime import datetime, timedelta\n",
    "\n",
    "import matplotlib.pyplot as plt\n",
    "import matplotlib.patches as patches\n",
    "import itertools\n",
    "\n",
    "import time\n",
    "\n",
    "import warnings\n",
    "warnings.filterwarnings('ignore')\n"
   ]
  },
  {
   "cell_type": "code",
   "execution_count": null,
   "metadata": {},
   "outputs": [],
   "source": [
    "#Detection Method - AL Framework (Basic)\n",
    "#AL framework 구현한 함수 - timedelta=hours\n",
    "def alternating_learners_original_hours(data, feature, target, l_start, l_end, v_limit, batch_size=1, w=10, tau=1, delta=0.2, n0=5):\n",
    " \n",
    "    cd_date = [] #CD로 판단된 날짜에 대해 저장/return할 list\n",
    "    q = [] #모델 교체 여부를 판단해 저장할 queue\n",
    "    err_list = [] #error 추이를 확인하기 위한 list(AL framework상에서는 사용 X)\n",
    "    while l_end+timedelta(hours=batch_size) < v_limit:\n",
    "        try:\n",
    "            #Long-time window(LW)\n",
    "            df_l = data[(data.index>l_start)&(data.index<=l_end)]\n",
    "            x_l = df_l[feature]\n",
    "            y_l = df_l[target]\n",
    "            \n",
    "            #Short-time window(SW)\n",
    "            df_s = data[(data.index>l_end-timedelta(hours=batch_size*w))&(data.index<=l_end)]\n",
    "            x_s = df_s[feature]\n",
    "            y_s = df_s[target]\n",
    "            \n",
    "            #New batch for measuring error(N)\n",
    "            df_n = data[(data.index>l_end)&(data.index<=l_end+timedelta(hours=batch_size))]\n",
    "            x_n = df_n[feature]\n",
    "            y_n = df_n[target]\n",
    "    \n",
    "            #LASSO model for LW, SW\n",
    "            model_l = LinearRegression().fit(x_l, y_l)   \n",
    "            model_s = LinearRegression().fit(x_s, y_s)\n",
    "            \n",
    "            #LW를 학습한 모델 L과 SW를 학습한 모델 S으로 N에 대한 error 측정\n",
    "            pred_l = model_l.predict(x_n)\n",
    "            pred_s = model_s.predict(x_n)\n",
    "            err_l = mean_absolute_percentage_error(y_n, pred_l)\n",
    "            err_s = mean_absolute_percentage_error(y_n, pred_s)\n",
    "            \n",
    "            #AL framework\n",
    "            if err_l < tau: #err_l이 허용 범위보다 큰 값인 경우\n",
    "                cd_type = 0\n",
    "            else:\n",
    "                if err_l <= err_s: #err_l이 err_s보다 작은 경우, SW로는 LW를 대체하기 어려움 -> 모델 교체가 불가능하므로 q에 0 추가\n",
    "                    cd_type = 0\n",
    "                else: #err_l이 err_s보다 큰 경우, SW가 LW보다 새로운 concept에 알맞은 데이터 -> 모델 교체가 필요하므로 q에 1 추가\n",
    "                    print(l_end, round(err_l,4))\n",
    "                    cd_type = 1\n",
    "            q.append(cd_type)\n",
    "            if len(q)>w:\n",
    "                q=q[1:]\n",
    "            if len(q) >= n0 and (sum(q)/len(q)) >= delta: #충분한 개수의 batch를 확인하고, 그 중 모델 교체가 필요한 경우가 일정 비율 이상인 경우,\n",
    "                err_list.append([l_end, err_s, err_l, err_s, cd_type, len(q), sum(q)/len(q),'yes'])\n",
    "                print(l_start, l_end, q)\n",
    "                q = []  #q 초기화\n",
    "                cd_date.append(l_end) #cd_date에 현재 LW의 종료 날짜 추가\n",
    "                l_start = l_end - timedelta(hours=batch_size*w) #LW를 SW로 대체\n",
    "            else: #LW 확장만 수행하면 되는 경우\n",
    "                err_list.append([l_end, err_l, err_l, err_s, cd_type, len(q), sum(q)/len(q),'no'])\n",
    "            l_end = l_end+timedelta(hours=batch_size) #LW, SW, N 모두 batch size 하나만큼 이동\n",
    "        except:  #주어진 데이터에서 더 이상 N으로 이동이 불가능한 경우 or 새로운 SW 또는 N에 해당하는 날짜가 결측되어 error 계산이 불가능한 경우, 날짜 이동만 수행\n",
    "            l_end = l_end+timedelta(hours=batch_size)\n",
    "    err_df = pd.DataFrame(err_list, columns=['TIME','error','err_l','err_s','cd','q_length','q_ratio','replacement'])\n",
    "    err_df.set_index('TIME',inplace=True)\n",
    "    return cd_date, err_df\n"
   ]
  },
  {
   "cell_type": "code",
   "execution_count": null,
   "metadata": {},
   "outputs": [],
   "source": [
    "# MAPE 계산함수\n",
    "def mean_absolute_percentage_error(y_test, y_pred):\n",
    "    return np.mean(np.abs((np.array(y_test) - np.array(y_pred))/np.array(y_test)))*100\n"
   ]
  },
  {
   "cell_type": "code",
   "execution_count": null,
   "metadata": {},
   "outputs": [],
   "source": [
    "data = pd.read_csv('df_posco_ver3.csv', index_col='A')\n",
    "data.index = pd.to_datetime(data.index)\n",
    "target = 'target'"
   ]
  },
  {
   "cell_type": "code",
   "execution_count": null,
   "metadata": {},
   "outputs": [],
   "source": [
    "posco_features_ver3 = ['C', 'G', 'H', 'I', 'J', 'K', 'L', 'M', 'P', 'Z', 'AB', 'CU', 'CW', 'CX', 'CY', 'CZ', 'DA', 'DB', 'DC', 'DF', 'DG', 'DH', 'DI', 'DJ', 'DM', 'DN', 'DO', 'DQ', 'DR', 'DW']"
   ]
  },
  {
   "cell_type": "code",
   "execution_count": null,
   "metadata": {},
   "outputs": [],
   "source": [
    "# 기존 모델 성능\n",
    "from sklearn.linear_model import Lasso, LinearRegression\n",
    "\n",
    "test_cut = pd.to_datetime('2023-01-01')\n",
    "features = posco_features_ver3\n",
    "df_fit = data[data.index<=test_cut]\n",
    "train_x = df_fit[features]\n",
    "train_y = df_fit[target]\n",
    "\n",
    "model = LinearRegression().fit(train_x, train_y)\n",
    "\n",
    "df_val = data[data.index>test_cut]\n",
    "test_x = df_val[features]\n",
    "\n",
    "total_predict = pd.DataFrame(df_val[target])\n",
    "total_predict.columns = ['True y']\n",
    "total_predict['LA_pre'] = model.predict(test_x)\n",
    "\n",
    "score = (np.round(mean_absolute_percentage_error(total_predict['True y'],total_predict['LA_pre']),4))\n",
    "std = total_predict['True y'].std()\n"
   ]
  },
  {
   "cell_type": "code",
   "execution_count": null,
   "metadata": {},
   "outputs": [],
   "source": [
    "total_predict"
   ]
  },
  {
   "cell_type": "code",
   "execution_count": null,
   "metadata": {},
   "outputs": [],
   "source": [
    "score"
   ]
  },
  {
   "cell_type": "code",
   "execution_count": null,
   "metadata": {},
   "outputs": [],
   "source": [
    "#기존 모델 target/predict 시각화\n",
    "plt.figure(figsize=(20,5))\n",
    "plt.plot(total_predict['True y'], color='black', label='Target')\n",
    "plt.plot(total_predict['LA_pre'], color='blue', label='Predicted')\n",
    "\n",
    "plt.title('Target and Predict Value Distribution')\n",
    "plt.ylabel('MAPE')\n",
    "plt.xlabel('Test Timestamp')\n",
    "plt.legend()\n",
    "plt.tight_layout()\n",
    "plt.savefig('Target and Prediction.jpg')"
   ]
  },
  {
   "cell_type": "code",
   "execution_count": null,
   "metadata": {},
   "outputs": [],
   "source": [
    "# total_predict dataframe에 MAPE 칼럼 추가\n",
    "total_predict['MAPE'] = total_predict.apply(lambda row: mean_absolute_percentage_error(row['True y'], row['LA_pre']), axis=1)\n",
    "total_predict"
   ]
  },
  {
   "cell_type": "code",
   "execution_count": null,
   "metadata": {},
   "outputs": [],
   "source": [
    "#MAPE Distribution Visualization\n",
    "plt.figure(figsize=(20,5))\n",
    "plt.plot(total_predict['MAPE'], color='black')\n",
    "plt.axhline(total_predict['MAPE'].mean(), color='red', label='Mean')\n",
    "plt.title('MAPE Distribution')\n",
    "plt.ylabel('MAPE')\n",
    "plt.xlabel('Test Timestamp')\n",
    "plt.legend()\n",
    "plt.tight_layout()\n",
    "plt.savefig('MAPE.jpg')"
   ]
  },
  {
   "cell_type": "code",
   "execution_count": null,
   "metadata": {},
   "outputs": [],
   "source": [
    "#변수 선택 및 이산화 알고리즘 적용 후 선택된 최적 변수 조합 목록\n",
    "# n_m_m: posco_features_ver3에 포함된 기존 변수 조합을 고려하지 않고 선택한 변수 조합\n",
    "# p30_m_m: posco_features_ver3에 포함된 기존 변수 조합을 모두 고려하여 선택한 변수 조합\n",
    "# p11_m_m: posco_features_ver3에 포함된 기존 변수들 중 11개의 필수 포함 변수만을 고려하여 선택한 변수 조합\n",
    "n_m_m = ['CX', 'G', 'E', 'H', 'AA', 'AG', 'O', 'I', 'AQ', 'N', 'C', 'AI', 'D', 'W', 'Q', 'F', 'DR', 'T', 'AN', 'DJ', 'R', 'DM', 'AO', 'DW', 'S', 'AC', 'U', 'J', 'AB', 'DK', 'Z', 'DE', 'DD', 'AJ', 'AE', 'AD', 'DQ', 'AK', 'Y', 'DO', 'V', 'AH', 'L', 'CZ', 'DA', 'X', 'AP', 'CY', 'DI', 'M']\n",
    "p30_m_m = ['C', 'G', 'H', 'I', 'J', 'K', 'L', 'M', 'P', 'Z', 'AB', 'CU', 'CW', 'CX', 'CY', 'CZ', 'DA', 'DB', 'DC', 'DF', 'DG', 'DH', 'DI', 'DJ', 'DM', 'DN', 'DO', 'DQ', 'DR', 'DW', 'CJ', 'DL', 'DP', 'DS', 'DT', 'DU', 'DV', 'E', 'AG', 'F', 'O', 'AA', 'AQ', 'D', 'AI', 'R', 'U', 'N', 'W', 'AJ']\n",
    "p11_m_m = ['P', 'L', 'DW', 'G', 'K', 'J', 'M', 'I', 'C', 'H', 'DR', 'CJ', 'DF', 'DL', 'DP', 'DS', 'DT', 'DU', 'DV', 'AG', 'AN', 'AA', 'N', 'O', 'AC', 'AI', 'AQ', 'E', 'W', 'D', 'Q', 'DJ', 'R', 'F', 'DM', 'U', 'DK', 'T', 'S', 'AO', 'DD', 'Z', 'AB', 'DE', 'AJ', 'DQ', 'AE', 'AD', 'DO', 'AK']"
   ]
  },
  {
   "cell_type": "code",
   "execution_count": null,
   "metadata": {},
   "outputs": [],
   "source": [
    "#변수 별 성능 비교\n",
    "score_onlyfs_total = []\n",
    "\n",
    "f = 0\n",
    "for features in [posco_features_ver3, n_m_m, p30_m_m, p11_m_m]: \n",
    "    for i in range(2, len(features)+1): #변수 2개~전체 변수 성능 비교\n",
    "        df_fit = data[data.index<=test_cut]\n",
    "        train_x = df_fit[features[:i]]\n",
    "        train_y = df_fit['target']\n",
    "        \n",
    "        model = LinearRegression().fit(train_x, train_y)\n",
    "        \n",
    "        df_val = data[data.index>test_cut]\n",
    "        test_x = df_val[features[:i]]\n",
    "        \n",
    "        total_predict2 = pd.DataFrame(df_val['target'])\n",
    "        total_predict2.columns = ['True y']\n",
    "        \n",
    "        total_predict2['LA_pre'] = model.predict(test_x)\n",
    "        mape_fs = (np.round(mean_absolute_percentage_error(total_predict2['True y'],total_predict2['LA_pre']),4))\n",
    "        score_onlyfs_total.append([f,i,mape_fs])\n",
    "    f+=1"
   ]
  },
  {
   "cell_type": "code",
   "execution_count": null,
   "metadata": {},
   "outputs": [],
   "source": [
    "score_onlyfs_total=pd.DataFrame(score_onlyfs_total, columns=['Feature_Num', 'i', 'mape_fs']) \n",
    "feature_mapping = {0: 'posco_features_ver3', 1: 'n_m_m', 2: 'p30_m_m', 3: 'p11_m_m'}\n",
    "score_onlyfs_total['Feature_Num'] = score_onlyfs_total['Feature_Num'].map(feature_mapping)\n",
    "score_onlyfs_total"
   ]
  },
  {
   "cell_type": "code",
   "execution_count": null,
   "metadata": {},
   "outputs": [],
   "source": [
    "idx_max_mape_fs = score_onlyfs_total.groupby('Feature_Num')['mape_fs'].idxmin()\n",
    "best_mape_fs_rows = score_onlyfs_total.loc[idx_max_mape_fs]\n",
    "best_mape_fs_rows #최고 성능: n_m_m[:39], p11_m_m[:21], p30_m_m[:38]까지만 선택한 feature subset"
   ]
  },
  {
   "cell_type": "code",
   "execution_count": null,
   "metadata": {},
   "outputs": [],
   "source": [
    "#posco변수 사용한 AL\n",
    "param_opt_posco_v3 = []\n",
    "feature = posco_features_ver3\n",
    "\n",
    "#최적 파라미터 조합\n",
    "batch_size, w, tau, delta, n0 = 3, 5, 2, 0.2, 2\n",
    "cd_posco_v3, err_df_posco_v3 = alternating_learners_original_hours(data, feature, target, pd.to_datetime('2023-01-01'), pd.to_datetime('2023-01-11'), pd.to_datetime('2023-07-01'), batch_size, w, tau, delta, n0)\n",
    "param_opt_posco_v3.append([feature, batch_size, w, tau, delta, n0, cd_posco_v3, err_df_posco_v3])"
   ]
  },
  {
   "cell_type": "code",
   "execution_count": null,
   "metadata": {},
   "outputs": [],
   "source": [
    "param_opt_posco_v3=pd.DataFrame(param_opt_posco_v3, columns=['feature', 'batch_size', 'w', 'tau', 'delta', 'n0', 'cd_posco_v3', 'err_df_posco_v3']) \n",
    "param_opt_posco_v3"
   ]
  },
  {
   "cell_type": "code",
   "execution_count": null,
   "metadata": {},
   "outputs": [],
   "source": [
    "plt.figure(figsize=(20,5))\n",
    "plt.plot(total_predict['MAPE'], color='black', label='MAPE')\n",
    "plt.axhline(total_predict['MAPE'].mean(), color='red', label='Mean MAPE')\n",
    "\n",
    "for i, timestamp in enumerate(cd_posco_v3):\n",
    "    plt.axvline(x=timestamp, color='gray', linestyle='--', linewidth=0.8, label='cd' if i == 0 else '')\n",
    "plt.legend(['MAPE', 'Mean MAPE', 'cd'])\n",
    "\n",
    "plt.title('Posco Feature Version CD Detection Result')\n",
    "plt.ylabel('MAPE')\n",
    "plt.xlabel('Test Timestamp')\n",
    "plt.legend()\n",
    "\n",
    "plt.tight_layout()"
   ]
  },
  {
   "cell_type": "code",
   "execution_count": null,
   "metadata": {},
   "outputs": [],
   "source": [
    "plt.figure(figsize=(20,5))\n",
    "plt.plot(total_predict['True y'], color='black', label='Target')\n",
    "plt.plot(total_predict['LA_pre'], color='blue', label='Predicted')\n",
    "\n",
    "for i, timestamp in enumerate(cd_posco_v3):\n",
    "    plt.axvline(x=timestamp, color='gray', linestyle='--', linewidth=0.8, label='cd' if i == 0 else '')\n",
    "plt.legend(['MAPE', 'Mean MAPE', 'cd'])\n",
    "\n",
    "\n",
    "plt.title('Posco Feature Version CD Detection Result')\n",
    "plt.ylabel('MAPE')\n",
    "plt.xlabel('Test Timestamp')\n",
    "plt.legend()\n",
    "\n",
    "plt.tight_layout()"
   ]
  },
  {
   "cell_type": "code",
   "execution_count": null,
   "metadata": {},
   "outputs": [],
   "source": [
    "#n_m_m 변수 조합 중 39개의 변수를 사용한 AL\n",
    "param_opt_n_m_m = []\n",
    "feature = n_m_m[:39] \n",
    "\n",
    "batch_size, w, tau, delta, n0 = 3, 5, 2, 0.2, 2\n",
    "cd_n_m_m, err_df_n_m_m = alternating_learners_original_hours(data, feature, target, pd.to_datetime('2023-01-01'), pd.to_datetime('2023-01-11'), pd.to_datetime('2023-07-01'), batch_size, w, tau, delta, n0)\n",
    "param_opt_n_m_m.append([feature, batch_size, w, tau, delta, n0, cd_n_m_m, err_df_n_m_m])"
   ]
  },
  {
   "cell_type": "code",
   "execution_count": null,
   "metadata": {},
   "outputs": [],
   "source": [
    "param_opt_n_m_m=pd.DataFrame(param_opt_posco_v3, columns=['feature', 'batch_size', 'w', 'tau', 'delta', 'n0', 'cd_n_m_m', 'err_df_n_m_m']) \n",
    "param_opt_n_m_m"
   ]
  },
  {
   "cell_type": "code",
   "execution_count": null,
   "metadata": {},
   "outputs": [],
   "source": [
    "plt.figure(figsize=(20,5))\n",
    "plt.plot(total_predict['MAPE'], color='black', label='MAPE')\n",
    "plt.axhline(total_predict['MAPE'].mean(), color='red', label='Mean MAPE')\n",
    "\n",
    "for i, timestamp in enumerate(cd_n_m_m):\n",
    "    plt.axvline(x=timestamp, color='gray', linestyle='--', linewidth=0.8, label='cd' if i == 0 else '')\n",
    "plt.legend(['MAPE', 'Mean MAPE', 'cd'])\n",
    "\n",
    "\n",
    "plt.title('n_m_m Combination Version CD Detection Result')\n",
    "plt.ylabel('MAPE')\n",
    "plt.xlabel('Test Timestamp')\n",
    "plt.legend()\n",
    "\n",
    "plt.tight_layout()"
   ]
  },
  {
   "cell_type": "code",
   "execution_count": null,
   "metadata": {},
   "outputs": [],
   "source": [
    "plt.figure(figsize=(20,5))\n",
    "plt.plot(total_predict['True y'], color='black', label='Target')\n",
    "plt.plot(total_predict['LA_pre'], color='blue', label='Predicted')\n",
    "\n",
    "for i, timestamp in enumerate(cd_n_m_m):\n",
    "    plt.axvline(x=timestamp, color='gray', linestyle='--', linewidth=0.8, label='cd' if i == 0 else '')\n",
    "plt.legend(['MAPE', 'Mean MAPE', 'cd'])\n",
    "\n",
    "\n",
    "plt.title('n_m_m Combination Version CD Detection Result')\n",
    "plt.ylabel('MAPE')\n",
    "plt.xlabel('Test Timestamp')\n",
    "plt.legend()\n",
    "\n",
    "plt.tight_layout()"
   ]
  },
  {
   "cell_type": "code",
   "execution_count": null,
   "metadata": {},
   "outputs": [],
   "source": [
    "plt.figure(figsize=(20,5))\n",
    "plt.plot(total_predict['True y'], color='black', label='Target')\n",
    "plt.plot(total_predict['LA_pre'], color='blue', label='Predicted')\n",
    "\n",
    "for i, timestamp in enumerate(cd_posco_v3):\n",
    "    plt.axvline(x=timestamp, color='red', linestyle='--', linewidth=0.8, label='cd of posco feature' if i == 0 else '')\n",
    "plt.legend(['MAPE', 'Mean MAPE', 'cd'])\n",
    "\n",
    "for i, timestamp in enumerate(cd_n_m_m):\n",
    "    plt.axvline(x=timestamp, color='green', linestyle='--', linewidth=0.8, label='cd of n_m_m feature' if i == 0 else '')\n",
    "plt.legend(['MAPE', 'Mean MAPE', 'cd'])\n",
    "\n",
    "plt.title('n_m_m Combination Version CD Detection Result')\n",
    "plt.ylabel('MAPE')\n",
    "plt.xlabel('Test Timestamp')\n",
    "plt.legend()\n",
    "\n",
    "plt.tight_layout()"
   ]
  },
  {
   "cell_type": "code",
   "execution_count": null,
   "metadata": {},
   "outputs": [],
   "source": [
    "# n_m_m[:39] 조합으로 학습했을 때 예측 성능\n",
    "from sklearn.linear_model import Lasso, LinearRegression\n",
    "\n",
    "test_cut = pd.to_datetime('2023-01-01')\n",
    "features = n_m_m[:39]\n",
    "df_fit = data[data.index<=test_cut]\n",
    "train_x = df_fit[features]\n",
    "train_y = df_fit[target]\n",
    "\n",
    "model = LinearRegression().fit(train_x, train_y)\n",
    "\n",
    "df_val = data[data.index>test_cut]\n",
    "test_x = df_val[features]\n",
    "\n",
    "total_predict_n_m_m = pd.DataFrame(df_val[target])\n",
    "total_predict_n_m_m.columns = ['True y']\n",
    "total_predict_n_m_m['n_m_m_LA_pre'] = model.predict(test_x)\n",
    "\n",
    "score = (np.round(mean_absolute_percentage_error(total_predict_n_m_m['True y'],total_predict_n_m_m['n_m_m_LA_pre']),4))\n",
    "std = total_predict_n_m_m['True y'].std()\n"
   ]
  },
  {
   "cell_type": "code",
   "execution_count": null,
   "metadata": {},
   "outputs": [],
   "source": [
    "n_m_m_pre=total_predict_n_m_m.iloc[:,1]\n",
    "n_m_m_pre=pd.DataFrame(n_m_m_pre)\n",
    "n_m_m_pre"
   ]
  },
  {
   "cell_type": "code",
   "execution_count": null,
   "metadata": {},
   "outputs": [],
   "source": [
    "total_predict"
   ]
  },
  {
   "cell_type": "code",
   "execution_count": null,
   "metadata": {},
   "outputs": [],
   "source": [
    "predict = pd.merge(total_predict, n_m_m_pre, on='A', how='inner')"
   ]
  },
  {
   "cell_type": "code",
   "execution_count": null,
   "metadata": {},
   "outputs": [],
   "source": [
    "predict=predict.drop(columns=['MAPE'])"
   ]
  },
  {
   "cell_type": "code",
   "execution_count": null,
   "metadata": {},
   "outputs": [],
   "source": [
    "predict"
   ]
  },
  {
   "cell_type": "code",
   "execution_count": null,
   "metadata": {},
   "outputs": [],
   "source": [
    "# mape comparison visualization\n",
    "x = predict.index\n",
    "y_true = predict['True y']\n",
    "y_pred_p = predict['LA_pre']\n",
    "y_pred_mm = predict['n_m_m_LA_pre']\n",
    "\n",
    "\n",
    "plt.figure(figsize=(30, 12))\n",
    "plt.plot(x, y_true, label='True Y', color='black')\n",
    "plt.plot(x, y_pred_p, label='기존 전략', color='blue')\n",
    "plt.plot(x, y_pred_mm, label='최적 변수 조합 적용(AL)', color='green')\n",
    "\n",
    "\n",
    "import matplotlib.font_manager as fm\n",
    "plt.rcParams['axes.unicode_minus'] = False\n",
    "plt.rcParams['font.family'] = 'AppleGothic'\n",
    "\n",
    "plt.xlabel('TIME', fontsize=30)\n",
    "#plt.ylabel('', fontsize=32)\n",
    "\n",
    "plt.legend(fontsize=20)\n",
    "plt.xticks(fontsize=20)\n",
    "plt.yticks(fontsize=20)\n",
    "\n",
    "plt.legend(fontsize=22)\n",
    "plt.tight_layout()\n"
   ]
  },
  {
   "cell_type": "code",
   "execution_count": null,
   "metadata": {},
   "outputs": [],
   "source": []
  }
 ],
 "metadata": {
  "interpreter": {
   "hash": "ebccc6c715ed45e1f02c6aa98de2ac5dfec9441ee6b041f949a5d9f34bfafa3f"
  },
  "kernelspec": {
   "display_name": "Python 3.11.4 ('base')",
   "language": "python",
   "name": "python3"
  },
  "language_info": {
   "codemirror_mode": {
    "name": "ipython",
    "version": 3
   },
   "file_extension": ".py",
   "mimetype": "text/x-python",
   "name": "python",
   "nbconvert_exporter": "python",
   "pygments_lexer": "ipython3",
   "version": "3.11.4"
  },
  "orig_nbformat": 4
 },
 "nbformat": 4,
 "nbformat_minor": 2
}
